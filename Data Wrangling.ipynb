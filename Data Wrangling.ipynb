{
 "cells": [
  {
   "cell_type": "code",
   "execution_count": null,
   "metadata": {},
   "outputs": [],
   "source": [
    "import requests\n",
    "import os\n",
    "import pandas as pd\n",
    "from pprint import pprint\n",
    "import matplotlib.pyplot as plt\n",
    "import numpy as np\n",
    "from datetime import datetime\n",
    "import time"
   ]
  },
  {
   "cell_type": "code",
   "execution_count": null,
   "metadata": {},
   "outputs": [],
   "source": [
    "csvpath=os.path.join(\"Resources\",\"MovieData_PreCleanup.csv\")\n",
    "movie_df=pd.read_csv(csvpath)"
   ]
  },
  {
   "cell_type": "code",
   "execution_count": null,
   "metadata": {},
   "outputs": [],
   "source": [
    "movie_df"
   ]
  },
  {
   "cell_type": "code",
   "execution_count": null,
   "metadata": {},
   "outputs": [],
   "source": [
    "movie_df_copy=movie_df.copy()\n",
    "movie_df_copy[\"Day of Release\"]=None\n",
    "movie_df_copy[\"Month of Release\"]=None\n",
    "movie_df_copy[\"Year of Release\"]=None\n",
    "for index, row in movie_df_copy.iterrows():    \n",
    "    movie_df_copy.loc[index,\"Day of Release\"]=datetime.strptime(row[\"Release Date\"], \"%Y-%m-%d\").strftime('%A')\n",
    "    movie_df_copy.loc[index,\"Month of Release\"]=datetime.strptime(row[\"Release Date\"], \"%Y-%m-%d\").strftime('%B')\n",
    "    movie_df_copy.loc[index,\"Year of Release\"]=datetime.strptime(row[\"Release Date\"], \"%Y-%m-%d\").strftime('%Y')"
   ]
  },
  {
   "cell_type": "code",
   "execution_count": null,
   "metadata": {},
   "outputs": [],
   "source": [
    "movie_df_copy.count()"
   ]
  },
  {
   "cell_type": "code",
   "execution_count": null,
   "metadata": {},
   "outputs": [],
   "source": [
    "movie_df_cleaned=movie_df_copy.loc[movie_df_copy['Revenue']!=0]\n",
    "movie_df_cleaned=movie_df_cleaned.loc[movie_df_copy['Type']=='movie']\n",
    "movie_df_cleaned[\"Release Date\"]=pd.to_datetime(movie_df_cleaned[\"Release Date\"])\n",
    "movie_df_cleaned.drop(['Box Office', 'Type', 'Unnamed: 0','Rating Dictionary','Metascore'], axis=1, inplace=True)\n",
    "movie_df_cleaned.sort_values([\"Release Date\"],inplace=True)\n",
    "movie_df_cleaned.to_csv(os.path.join(\"Resources\",\"MovieData_Clean.csv\"))"
   ]
  },
  {
   "cell_type": "code",
   "execution_count": null,
   "metadata": {},
   "outputs": [],
   "source": []
  },
  {
   "cell_type": "code",
   "execution_count": null,
   "metadata": {},
   "outputs": [],
   "source": []
  },
  {
   "cell_type": "code",
   "execution_count": null,
   "metadata": {},
   "outputs": [],
   "source": []
  }
 ],
 "metadata": {
  "kernelspec": {
   "display_name": "Python 3",
   "language": "python",
   "name": "python3"
  },
  "language_info": {
   "codemirror_mode": {
    "name": "ipython",
    "version": 3
   },
   "file_extension": ".py",
   "mimetype": "text/x-python",
   "name": "python",
   "nbconvert_exporter": "python",
   "pygments_lexer": "ipython3",
   "version": "3.7.4"
  }
 },
 "nbformat": 4,
 "nbformat_minor": 2
}

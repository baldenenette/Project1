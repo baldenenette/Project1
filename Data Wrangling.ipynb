{
 "cells": [
  {
   "cell_type": "code",
   "execution_count": 1,
   "metadata": {},
   "outputs": [],
   "source": [
    "import requests\n",
    "import os\n",
    "import pandas as pd\n",
    "from pprint import pprint\n",
    "import matplotlib.pyplot as plt\n",
    "import numpy as np\n",
    "\n",
    "from api_keys import rapid_key, moviedb_key, omdb_key"
   ]
  },
  {
   "cell_type": "markdown",
   "metadata": {},
   "source": [
    "# Data Pulls"
   ]
  },
  {
   "cell_type": "code",
   "execution_count": 2,
   "metadata": {},
   "outputs": [],
   "source": [
    "# # Rapid API data pull\n",
    "# EDB_url=\"https://ivaee-internet-video-archive-entertainment-v1.p.rapidapi.com/entertainment/search/\"\n",
    "\n",
    "# querystring = {\"YearRange_Start\":\"2005\",\"YearRange_End\":\"2020\",\"ReleaseTypes\":\"Theatrical_Limited_Release,Theatrical_Wide_Release\"}\n",
    "\n",
    "# headers = {\n",
    "#     'x-rapidapi-host': \"ivaee-internet-video-archive-entertainment-v1.p.rapidapi.com\",\n",
    "#     'x-rapidapi-key': rapid_key,\n",
    "#     'content-type': \"application/json\"\n",
    "#     }\n",
    "\n",
    "# response = requests.request(\"GET\", EDB_url, headers=headers, params=querystring).json()\n",
    "\n",
    "# pprint(response)\n"
   ]
  },
  {
   "cell_type": "code",
   "execution_count": 4,
   "metadata": {},
   "outputs": [
    {
     "name": "stdout",
     "output_type": "stream",
     "text": [
      "Missing information on page 2\n"
     ]
    }
   ],
   "source": [
    "# The Movie DB data pull\n",
    "\n",
    "tmdb_url=\"https://api.themoviedb.org/3/discover/movie?\"\n",
    "params={\n",
    "    \"api_key\":moviedb_key,\n",
    "    \"primary_release_date.gte\":\"2005-01-01\",\n",
    "    \"sort_by\":\"primary_release_date.desc\",\n",
    "    \"primary_release_date.lte\":\"2020-01-01\",\n",
    "    \"region\":\"US\",\n",
    "    \"with_release_type\":\"2,3\",\n",
    "    \"language\":\"en-US\"\n",
    "}\n",
    "movie_ids=[]\n",
    "movie_titles=[]\n",
    "movie_dates=[]\n",
    "page=1\n",
    "\n",
    "# Repeat the api ping for each page in the query because each ping only returns 20 results\n",
    "\n",
    "while page<=500:\n",
    "    params[\"page\"]=page\n",
    "    response = requests.get(tmdb_url, params=params).json()\n",
    "    \n",
    "    for movie in response[\"results\"]:\n",
    "        try:\n",
    "            movie_ids.append(movie[\"id\"])\n",
    "            movie_titles.append(movie[\"title\"])\n",
    "            movie_dates.append(movie[\"release_date\"])\n",
    "        except(TypeError):\n",
    "            f = open(os.path.join(\"ErrorLogs\",\"TMDB_Pull_Error_Log.txt\"), \"a\")\n",
    "            f.write(f'Missing information on page {page}\\n\")\n",
    "            f.close()            \n",
    "    page=page+1\n"
   ]
  },
  {
   "cell_type": "code",
   "execution_count": 42,
   "metadata": {},
   "outputs": [],
   "source": [
    "# Create the Initial Data Frame to use to pull from OMDB and export the data to a csv file\n",
    "\n",
    "Movie_df=pd.DataFrame({\"TMDB ID\":movie_ids,\"Title\":movie_titles,\"Release Date\":movie_dates})\n",
    "export_file_path=os.path.join(\"Resources\",\"MovieTitles.csv\")\n",
    "Movie_df.to_csv(export_file_path)\n"
   ]
  },
  {
   "cell_type": "code",
   "execution_count": 43,
   "metadata": {},
   "outputs": [],
   "source": [
    "# Add Necessary Columns to data frame in order to stor additional info\n",
    "\n",
    "Movie_df[\"IMDB ID\"]=None\n",
    "Movie_df[\"Rating\"]=None\n",
    "Movie_df[\"Runtime\"]=None\n",
    "Movie_df[\"Genre\"]=None\n",
    "Movie_df[\"Director\"]=None\n",
    "Movie_df[\"Writer\"]=None\n",
    "Movie_df[\"Actors\"]=None\n",
    "Movie_df[\"Plot\"]=None\n",
    "Movie_df[\"Language\"]=None\n",
    "Movie_df[\"Country\"]=None\n",
    "Movie_df[\"Awards\"]=None\n",
    "Movie_df[\"Poster\"]=None\n",
    "Movie_df[\"IMDB Rating\"]=None\n",
    "Movie_df[\"IMDB Votes\"]=None\n",
    "Movie_df[\"Metascore\"]=None\n",
    "Movie_df[\"Rating Dictionary\"]=None\n",
    "Movie_df[\"Type\"]=None\n",
    "Movie_df[\"DVD Release Date\"]=None\n",
    "Movie_df[\"Box Office\"]=None\n",
    "Movie_df[\"Production\"]=None"
   ]
  },
  {
   "cell_type": "code",
   "execution_count": 44,
   "metadata": {},
   "outputs": [],
   "source": [
    "# OMDB API Data Pull\n",
    "\n",
    "omdb_url=\"http://www.omdbapi.com/?\"\n",
    "params={\n",
    "    \"apikey\":omdb_key\n",
    "}\n",
    "\n",
    "# pulls determines how many rows i want to iterate through. This is for testing purposes and will be removed in the \n",
    "\n",
    "i=1\n",
    "pulls=100\n",
    "for index,row in Movie_df.iterrows():\n",
    "    params[\"t\"]=row[\"Title\"]\n",
    "    response=requests.get(omdb_url, params=params).json() \n",
    "    try:\n",
    "        Movie_df.loc[index,\"Rating\"]=response[\"Rated\"]\n",
    "        Movie_df.loc[index,\"Runtime\"]=response[\"Runtime\"]\n",
    "        Movie_df.loc[index,\"Genre\"]=response[\"Genre\"]\n",
    "        Movie_df.loc[index,\"Director\"]=response[\"Director\"]\n",
    "        Movie_df.loc[index,\"Writer\"]=response[\"Writer\"]\n",
    "        Movie_df.loc[index,\"Actors\"]=response[\"Actors\"]\n",
    "        Movie_df.loc[index,\"Plot\"]=response[\"Plot\"]\n",
    "        Movie_df.loc[index,\"Language\"]=response[\"Language\"]\n",
    "        Movie_df.loc[index,\"Country\"]=response[\"Country\"]\n",
    "        Movie_df.loc[index,\"Awards\"]=response[\"Awards\"]\n",
    "        Movie_df.loc[index,\"Poster\"]=response[\"Poster\"]\n",
    "        Movie_df.loc[index,\"IMDB Rating\"]=response[\"imdbRating\"]\n",
    "    #     Movie_df.loc[index,\"Metascore\"]=response[\"\"]\n",
    "    #     Movie_df.loc[index,\"Rating Dictionary\"]=response[\"Ratings\"]\n",
    "        Movie_df.loc[index,\"IMDB ID\"]=response[\"imdbID\"]\n",
    "        Movie_df.loc[index,\"IMDB Votes\"]=response[\"imdbVotes\"]\n",
    "        Movie_df.loc[index,\"Type\"]=response[\"Type\"]\n",
    "        Movie_df.loc[index,\"DVD Release Date\"]=response[\"DVD\"]\n",
    "        Movie_df.loc[index,\"Box Office\"]=response[\"BoxOffice\"]\n",
    "        Movie_df.loc[index,\"Production\"]=response[\"Production\"]\n",
    "    except(KeyError):\n",
    "        f = open(os.path.join(\"ErrorLogs\",\"IMDB_Pull_Error_Log.txt\"), \"a\")\n",
    "        f.write(f\"There was a problem with movie {row['TMDB ID']}\\n\")\n",
    "        f.close()        \n",
    "                \n",
    "    #checks to see if the max number of pulls was reached and breaks out of the for loop if they have been\n",
    "                \n",
    "    if(i==pulls):\n",
    "        break\n",
    "    i=i+1\n",
    "\n"
   ]
  },
  {
   "cell_type": "markdown",
   "metadata": {},
   "source": [
    "# Data Pull Complete: Data Wrangling Begins Now"
   ]
  },
  {
   "cell_type": "code",
   "execution_count": 46,
   "metadata": {},
   "outputs": [],
   "source": [
    "# Drops any rows that are missing more than 4 values and export the file\n",
    "\n",
    "Movie_df.dropna(thresh=4, inplace=True)\n",
    "Movie_df.head(50)\n",
    "Movie_df.to_csv(os.path.join(\"Resources\",\"MovieData_PreCleanup.csv\"))\n"
   ]
  },
  {
   "cell_type": "code",
   "execution_count": null,
   "metadata": {},
   "outputs": [],
   "source": []
  }
 ],
 "metadata": {
  "kernelspec": {
   "display_name": "Python 3",
   "language": "python",
   "name": "python3"
  },
  "language_info": {
   "codemirror_mode": {
    "name": "ipython",
    "version": 3
   },
   "file_extension": ".py",
   "mimetype": "text/x-python",
   "name": "python",
   "nbconvert_exporter": "python",
   "pygments_lexer": "ipython3",
   "version": "3.7.4"
  }
 },
 "nbformat": 4,
 "nbformat_minor": 2
}
